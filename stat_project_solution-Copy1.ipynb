{
 "cells": [
  {
   "cell_type": "code",
   "execution_count": 274,
   "id": "4fab15b7-0184-4fe4-ad16-bd504fda22b3",
   "metadata": {},
   "outputs": [],
   "source": [
    "# Import the necessary libraries\n",
    "import numpy as np\n",
    "import pandas as pd\n",
    "\n",
    "import matplotlib.pyplot as plt\n",
    "import seaborn as sns\n",
    "import scipy.stats as stats\n",
    "from statsmodels.stats.proportion import proportions_ztest\n",
    "from scipy.stats import chi2_contingency"
   ]
  },
  {
   "cell_type": "code",
   "execution_count": 275,
   "id": "db1c446a-6c2a-4fbf-b9a4-117e976e62a8",
   "metadata": {},
   "outputs": [],
   "source": [
    "# Load the dataset\n",
    "data = pd.read_csv('abtest.csv')"
   ]
  },
  {
   "cell_type": "code",
   "execution_count": 276,
   "id": "6ed9f42e-10fe-4a03-af34-717ba5fae035",
   "metadata": {},
   "outputs": [
    {
     "data": {
      "text/html": [
       "<div>\n",
       "<style scoped>\n",
       "    .dataframe tbody tr th:only-of-type {\n",
       "        vertical-align: middle;\n",
       "    }\n",
       "\n",
       "    .dataframe tbody tr th {\n",
       "        vertical-align: top;\n",
       "    }\n",
       "\n",
       "    .dataframe thead th {\n",
       "        text-align: right;\n",
       "    }\n",
       "</style>\n",
       "<table border=\"1\" class=\"dataframe\">\n",
       "  <thead>\n",
       "    <tr style=\"text-align: right;\">\n",
       "      <th></th>\n",
       "      <th>user_id</th>\n",
       "      <th>group</th>\n",
       "      <th>landing_page</th>\n",
       "      <th>time_spent_on_the_page</th>\n",
       "      <th>converted</th>\n",
       "      <th>language_preferred</th>\n",
       "    </tr>\n",
       "  </thead>\n",
       "  <tbody>\n",
       "    <tr>\n",
       "      <th>0</th>\n",
       "      <td>546592</td>\n",
       "      <td>control</td>\n",
       "      <td>old</td>\n",
       "      <td>3.48</td>\n",
       "      <td>no</td>\n",
       "      <td>Spanish</td>\n",
       "    </tr>\n",
       "    <tr>\n",
       "      <th>1</th>\n",
       "      <td>546468</td>\n",
       "      <td>treatment</td>\n",
       "      <td>new</td>\n",
       "      <td>7.13</td>\n",
       "      <td>yes</td>\n",
       "      <td>English</td>\n",
       "    </tr>\n",
       "    <tr>\n",
       "      <th>2</th>\n",
       "      <td>546462</td>\n",
       "      <td>treatment</td>\n",
       "      <td>new</td>\n",
       "      <td>4.40</td>\n",
       "      <td>no</td>\n",
       "      <td>Spanish</td>\n",
       "    </tr>\n",
       "    <tr>\n",
       "      <th>3</th>\n",
       "      <td>546567</td>\n",
       "      <td>control</td>\n",
       "      <td>old</td>\n",
       "      <td>3.02</td>\n",
       "      <td>no</td>\n",
       "      <td>French</td>\n",
       "    </tr>\n",
       "    <tr>\n",
       "      <th>4</th>\n",
       "      <td>546459</td>\n",
       "      <td>treatment</td>\n",
       "      <td>new</td>\n",
       "      <td>4.75</td>\n",
       "      <td>yes</td>\n",
       "      <td>Spanish</td>\n",
       "    </tr>\n",
       "  </tbody>\n",
       "</table>\n",
       "</div>"
      ],
      "text/plain": [
       "   user_id      group landing_page  time_spent_on_the_page converted  \\\n",
       "0   546592    control          old                    3.48        no   \n",
       "1   546468  treatment          new                    7.13       yes   \n",
       "2   546462  treatment          new                    4.40        no   \n",
       "3   546567    control          old                    3.02        no   \n",
       "4   546459  treatment          new                    4.75       yes   \n",
       "\n",
       "  language_preferred  \n",
       "0            Spanish  \n",
       "1            English  \n",
       "2            Spanish  \n",
       "3             French  \n",
       "4            Spanish  "
      ]
     },
     "execution_count": 276,
     "metadata": {},
     "output_type": "execute_result"
    }
   ],
   "source": [
    "# copying data to another variable to avoid any changes to original data\n",
    "df = data.copy()\n",
    "\n",
    "# View the first and last 5 rows of the dataset\n",
    "df.head()"
   ]
  },
  {
   "cell_type": "code",
   "execution_count": 277,
   "id": "3b073c99-9aad-48e1-897f-4a052d725ace",
   "metadata": {},
   "outputs": [
    {
     "data": {
      "text/plain": [
       "(100, 6)"
      ]
     },
     "execution_count": 277,
     "metadata": {},
     "output_type": "execute_result"
    }
   ],
   "source": [
    "# Understand the shape of the dataset\n",
    "df.shape"
   ]
  },
  {
   "cell_type": "markdown",
   "id": "2b73b585-2e92-4666-9ae2-aefdad4f2519",
   "metadata": {},
   "source": [
    "- Since this is a sample data, the number of records are less: 100, and there are 6 columns"
   ]
  },
  {
   "cell_type": "code",
   "execution_count": 278,
   "id": "74f2aed1-5cc8-4b07-8cb2-dc44c938dbe6",
   "metadata": {},
   "outputs": [
    {
     "name": "stdout",
     "output_type": "stream",
     "text": [
      "<class 'pandas.core.frame.DataFrame'>\n",
      "RangeIndex: 100 entries, 0 to 99\n",
      "Data columns (total 6 columns):\n",
      " #   Column                  Non-Null Count  Dtype  \n",
      "---  ------                  --------------  -----  \n",
      " 0   user_id                 100 non-null    int64  \n",
      " 1   group                   100 non-null    object \n",
      " 2   landing_page            100 non-null    object \n",
      " 3   time_spent_on_the_page  100 non-null    float64\n",
      " 4   converted               100 non-null    object \n",
      " 5   language_preferred      100 non-null    object \n",
      "dtypes: float64(1), int64(1), object(4)\n",
      "memory usage: 4.8+ KB\n"
     ]
    }
   ],
   "source": [
    "# Check the data types of the columns for the dataset\n",
    "df.info()"
   ]
  },
  {
   "cell_type": "markdown",
   "id": "60bbdd27-a86c-474a-a138-8c36c5be093f",
   "metadata": {},
   "source": [
    "- All the variables have the expected datatype and there are **no Null values** in any of the them."
   ]
  },
  {
   "cell_type": "code",
   "execution_count": 279,
   "id": "e12bf252-bee2-4f52-a9bf-5a517e3aea0a",
   "metadata": {},
   "outputs": [
    {
     "data": {
      "text/html": [
       "<div>\n",
       "<style scoped>\n",
       "    .dataframe tbody tr th:only-of-type {\n",
       "        vertical-align: middle;\n",
       "    }\n",
       "\n",
       "    .dataframe tbody tr th {\n",
       "        vertical-align: top;\n",
       "    }\n",
       "\n",
       "    .dataframe thead th {\n",
       "        text-align: right;\n",
       "    }\n",
       "</style>\n",
       "<table border=\"1\" class=\"dataframe\">\n",
       "  <thead>\n",
       "    <tr style=\"text-align: right;\">\n",
       "      <th></th>\n",
       "      <th>time_spent_on_the_page</th>\n",
       "    </tr>\n",
       "  </thead>\n",
       "  <tbody>\n",
       "    <tr>\n",
       "      <th>count</th>\n",
       "      <td>100.000000</td>\n",
       "    </tr>\n",
       "    <tr>\n",
       "      <th>mean</th>\n",
       "      <td>5.377800</td>\n",
       "    </tr>\n",
       "    <tr>\n",
       "      <th>std</th>\n",
       "      <td>2.378166</td>\n",
       "    </tr>\n",
       "    <tr>\n",
       "      <th>min</th>\n",
       "      <td>0.190000</td>\n",
       "    </tr>\n",
       "    <tr>\n",
       "      <th>25%</th>\n",
       "      <td>3.880000</td>\n",
       "    </tr>\n",
       "    <tr>\n",
       "      <th>50%</th>\n",
       "      <td>5.415000</td>\n",
       "    </tr>\n",
       "    <tr>\n",
       "      <th>75%</th>\n",
       "      <td>7.022500</td>\n",
       "    </tr>\n",
       "    <tr>\n",
       "      <th>max</th>\n",
       "      <td>10.710000</td>\n",
       "    </tr>\n",
       "  </tbody>\n",
       "</table>\n",
       "</div>"
      ],
      "text/plain": [
       "       time_spent_on_the_page\n",
       "count              100.000000\n",
       "mean                 5.377800\n",
       "std                  2.378166\n",
       "min                  0.190000\n",
       "25%                  3.880000\n",
       "50%                  5.415000\n",
       "75%                  7.022500\n",
       "max                 10.710000"
      ]
     },
     "execution_count": 279,
     "metadata": {},
     "output_type": "execute_result"
    }
   ],
   "source": [
    "# Checking the Statistical Summary\n",
    "df[['time_spent_on_the_page']].describe()"
   ]
  },
  {
   "cell_type": "markdown",
   "id": "e9501698-b4df-4b7f-b41d-fc5d1af0406f",
   "metadata": {},
   "source": [
    "- The mean time_spent_on_the_page is almost equal to the median indicating that the distribution for this variable is not skewed"
   ]
  },
  {
   "cell_type": "markdown",
   "id": "c3b4ecdb-a1ca-4ba1-9d92-2d281bbcae82",
   "metadata": {},
   "source": [
    "### Univariate Analysis"
   ]
  },
  {
   "cell_type": "code",
   "execution_count": 280,
   "id": "8477d598-0048-46c7-85cf-f7cd6243c17f",
   "metadata": {},
   "outputs": [
    {
     "data": {
      "text/plain": [
       "100"
      ]
     },
     "execution_count": 280,
     "metadata": {},
     "output_type": "execute_result"
    }
   ],
   "source": [
    "df['user_id'].nunique()"
   ]
  },
  {
   "cell_type": "markdown",
   "id": "3410464f-eb7c-40ad-99d5-cb14962bdc3d",
   "metadata": {},
   "source": [
    "- There are **no duplicate records** in this sample of data."
   ]
  },
  {
   "cell_type": "code",
   "execution_count": 281,
   "id": "f46429f7-20dc-46e2-9cfb-1d05845ddb6c",
   "metadata": {},
   "outputs": [
    {
     "data": {
      "image/png": "[encoded data removed]",
      "text/plain": [
       "<Figure size 720x432 with 1 Axes>"
      ]
     },
     "metadata": {
      "needs_background": "light"
     },
     "output_type": "display_data"
    }
   ],
   "source": [
    "# Set the figure size for the plots\n",
    "plt.figure(figsize=(10, 6))\n",
    "\n",
    "# display the plot\n",
    "ax = sns.countplot(x='group', data=df)\n",
    "\n",
    "# Add count labels on top of bars\n",
    "for container in ax.containers:\n",
    "    ax.bar_label(container)\n",
    "\n",
    "plt.title('Count of Users by Group')\n",
    "plt.show()"
   ]
  },
  {
   "cell_type": "markdown",
   "id": "5646dc0a-eb6a-4fea-a2c7-1d86e3769413",
   "metadata": {},
   "source": [
    "- The categories in the 'group' column ('control' and 'treatment') are equally distributed. There are **50 records of each category**."
   ]
  },
  {
   "cell_type": "code",
   "execution_count": 282,
   "id": "95bdf5f4-a8cd-49c5-a1b2-7ae59db038e0",
   "metadata": {},
   "outputs": [
    {
     "data": {
      "image/png": "[encoded data removed]",
      "text/plain": [
       "<Figure size 720x432 with 1 Axes>"
      ]
     },
     "metadata": {
      "needs_background": "light"
     },
     "output_type": "display_data"
    }
   ],
   "source": [
    "plt.figure(figsize=(10, 6))\n",
    "\n",
    "ax = sns.countplot(x='landing_page', data=df)\n",
    "\n",
    "for container in ax.containers:\n",
    "    ax.bar_label(container)\n",
    "\n",
    "plt.title('Count of Users by Landing Page')\n",
    "plt.show()"
   ]
  },
  {
   "cell_type": "markdown",
   "id": "1335842d-e31d-4c1b-94ab-b04095b5cbe1",
   "metadata": {},
   "source": [
    "- The categories in the 'landing_page' column ('old' and 'new') are also equally distributed. There are 50 records of each category of landing_page."
   ]
  },
  {
   "cell_type": "markdown",
   "id": "362d269f-a4de-4a78-8942-bb31a798487d",
   "metadata": {},
   "source": [
    "Now, we'll see if the all the users belonging to 'control group' have 'old landing_page' and if all the users of 'treatment group' have 'new landing_page'"
   ]
  },
  {
   "cell_type": "code",
   "execution_count": 283,
   "id": "d0d061eb-8e79-470f-a6f6-268b5e197ed7",
   "metadata": {},
   "outputs": [
    {
     "data": {
      "text/html": [
       "<div>\n",
       "<style scoped>\n",
       "    .dataframe tbody tr th:only-of-type {\n",
       "        vertical-align: middle;\n",
       "    }\n",
       "\n",
       "    .dataframe tbody tr th {\n",
       "        vertical-align: top;\n",
       "    }\n",
       "\n",
       "    .dataframe thead th {\n",
       "        text-align: right;\n",
       "    }\n",
       "</style>\n",
       "<table border=\"1\" class=\"dataframe\">\n",
       "  <thead>\n",
       "    <tr style=\"text-align: right;\">\n",
       "      <th></th>\n",
       "      <th>user_id</th>\n",
       "      <th>group</th>\n",
       "      <th>landing_page</th>\n",
       "      <th>time_spent_on_the_page</th>\n",
       "      <th>converted</th>\n",
       "      <th>language_preferred</th>\n",
       "    </tr>\n",
       "  </thead>\n",
       "  <tbody>\n",
       "  </tbody>\n",
       "</table>\n",
       "</div>"
      ],
      "text/plain": [
       "Empty DataFrame\n",
       "Columns: [user_id, group, landing_page, time_spent_on_the_page, converted, language_preferred]\n",
       "Index: []"
      ]
     },
     "execution_count": 283,
     "metadata": {},
     "output_type": "execute_result"
    }
   ],
   "source": [
    "df[(df['group'] == 'control') & (df['landing_page'] != 'old')]"
   ]
  },
  {
   "cell_type": "code",
   "execution_count": 284,
   "id": "2e2189b4-e1bd-4c01-9794-ee1852c28134",
   "metadata": {},
   "outputs": [
    {
     "data": {
      "text/html": [
       "<div>\n",
       "<style scoped>\n",
       "    .dataframe tbody tr th:only-of-type {\n",
       "        vertical-align: middle;\n",
       "    }\n",
       "\n",
       "    .dataframe tbody tr th {\n",
       "        vertical-align: top;\n",
       "    }\n",
       "\n",
       "    .dataframe thead th {\n",
       "        text-align: right;\n",
       "    }\n",
       "</style>\n",
       "<table border=\"1\" class=\"dataframe\">\n",
       "  <thead>\n",
       "    <tr style=\"text-align: right;\">\n",
       "      <th></th>\n",
       "      <th>user_id</th>\n",
       "      <th>group</th>\n",
       "      <th>landing_page</th>\n",
       "      <th>time_spent_on_the_page</th>\n",
       "      <th>converted</th>\n",
       "      <th>language_preferred</th>\n",
       "    </tr>\n",
       "  </thead>\n",
       "  <tbody>\n",
       "  </tbody>\n",
       "</table>\n",
       "</div>"
      ],
      "text/plain": [
       "Empty DataFrame\n",
       "Columns: [user_id, group, landing_page, time_spent_on_the_page, converted, language_preferred]\n",
       "Index: []"
      ]
     },
     "execution_count": 284,
     "metadata": {},
     "output_type": "execute_result"
    }
   ],
   "source": [
    "df[(df['group'] == 'treatment') & (df['landing_page'] != 'new')]"
   ]
  },
  {
   "cell_type": "markdown",
   "id": "5b2a2bb3-44d8-40e4-be68-0c626c384ae6",
   "metadata": {},
   "source": [
    "- All the users belonging to 'control group' also belong to 'old landing_page' and all the users belonging to 'treatment group' belong to 'new landing_page'"
   ]
  },
  {
   "cell_type": "code",
   "execution_count": 285,
   "id": "74d0199b-1685-4fb4-b892-7d62e59d2ed5",
   "metadata": {},
   "outputs": [
    {
     "data": {
      "image/png": "[encoded data removed]",
      "text/plain": [
       "<Figure size 720x432 with 1 Axes>"
      ]
     },
     "metadata": {
      "needs_background": "light"
     },
     "output_type": "display_data"
    }
   ],
   "source": [
    "# Checking the distribution for time_spent_on_the_page\n",
    "plt.figure(figsize=(10, 6))\n",
    "\n",
    "sns.histplot(data=df, x='time_spent_on_the_page', bins=15, kde=True,)\n",
    "plt.title('Distribution of Time Spend on the Landing Page')\n",
    "plt.show()"
   ]
  },
  {
   "cell_type": "markdown",
   "id": "c03f5284-b7f3-4258-afb8-69560a1478e0",
   "metadata": {},
   "source": [
    "- We can see that the distribution of 'time_spent_on_the_page' is approximately normally distributed with most of the users spending 5-7 minutes on the landing page"
   ]
  },
  {
   "cell_type": "code",
   "execution_count": 286,
   "id": "e7bb956c-12e9-41cc-b3be-5344832cb11c",
   "metadata": {},
   "outputs": [
    {
     "data": {
      "image/png": "[encoded data removed]",
      "text/plain": [
       "<Figure size 720x432 with 1 Axes>"
      ]
     },
     "metadata": {
      "needs_background": "light"
     },
     "output_type": "display_data"
    }
   ],
   "source": [
    "plt.figure(figsize=(10, 6))\n",
    "\n",
    "ax = sns.countplot(x='converted', data=df)\n",
    "\n",
    "# Add count labels on top of bars\n",
    "for container in ax.containers:\n",
    "    ax.bar_label(container)\n",
    "\n",
    "plt.title('Count of Users by Conversion status')\n",
    "plt.show()"
   ]
  },
  {
   "cell_type": "markdown",
   "id": "91eaab07-a2fc-479c-b227-ab4dd3717397",
   "metadata": {},
   "source": [
    "- 54 users in the sample got converted and 46 of the users didn't convert"
   ]
  },
  {
   "cell_type": "code",
   "execution_count": 287,
   "id": "395f55d0-af52-488e-a0e8-49f2c5404794",
   "metadata": {},
   "outputs": [
    {
     "data": {
      "image/png": "[encoded data removed]",
      "text/plain": [
       "<Figure size 720x432 with 1 Axes>"
      ]
     },
     "metadata": {
      "needs_background": "light"
     },
     "output_type": "display_data"
    }
   ],
   "source": [
    "plt.figure(figsize=(10, 6))\n",
    "\n",
    "ax = sns.countplot(x='language_preferred', data=df)\n",
    "\n",
    "for container in ax.containers:\n",
    "    ax.bar_label(container)\n",
    "\n",
    "plt.title('Count of Users by Preferred Language')\n",
    "plt.show()"
   ]
  },
  {
   "cell_type": "markdown",
   "id": "7613c7be-12df-4797-a005-9c9d184240de",
   "metadata": {},
   "source": [
    "- There are three languages preferred by the users: Spanish, English and French and the  distribution of users by Preferred Language is almost equal"
   ]
  },
  {
   "cell_type": "markdown",
   "id": "c6faa443-b6c2-4095-8c82-927308de2ca8",
   "metadata": {},
   "source": [
    "### Bivariate Analysis"
   ]
  },
  {
   "cell_type": "code",
   "execution_count": 288,
   "id": "546bd543-0d37-4c67-98b6-999d5c3091a4",
   "metadata": {},
   "outputs": [
    {
     "data": {
      "image/png": "[encoded data removed]",
      "text/plain": [
       "<Figure size 1008x432 with 2 Axes>"
      ]
     },
     "metadata": {
      "needs_background": "light"
     },
     "output_type": "display_data"
    }
   ],
   "source": [
    "# Analyzing time spent and conversions for different groups\n",
    "fig, axes = plt.subplots(1, 2, figsize=(14, 6))  # 1 row, 2 columns\n",
    "\n",
    "# --- Bar plot of mean time spent ---\n",
    "sns.barplot(\n",
    "    x='group', \n",
    "    y='time_spent_on_the_page', \n",
    "    data=df, \n",
    "    estimator='mean', \n",
    "    errorbar=None,\n",
    "    ax=axes[0]\n",
    ")\n",
    "axes[0].set_title('Mean Time Spent by Group')\n",
    "\n",
    "for container in axes[0].containers:\n",
    "    axes[0].bar_label(container)\n",
    "    \n",
    "# --- Stacked bar chart of conversions --- \n",
    "cross_tab = pd.crosstab(df['group'], df['converted'])\n",
    "\n",
    "cross_tab.plot(kind='bar', stacked=True, ax=axes[1]) \n",
    "axes[1].set_title('Conversions by Group')\n",
    "axes[1].set_ylabel('Count')\n",
    "axes[1].set_xticklabels(axes[1].get_xticklabels(), rotation=0)\n",
    "\n",
    "for container in axes[1].containers:\n",
    "    axes[1].bar_label(container)\n",
    "    \n",
    "plt.tight_layout()\n",
    "plt.show()\n"
   ]
  },
  {
   "cell_type": "markdown",
   "id": "5f0419c2-9ad8-4aae-923f-daf0ae417f4b",
   "metadata": {},
   "source": [
    "- The mean time spent by users in treatment group is more than the mean time spent by users of the contol group by ~1.7 minutes.\n",
    "- In the given sample, we can see that more users from the treatment group have been converted (subscribed) than the users from control group."
   ]
  },
  {
   "cell_type": "code",
   "execution_count": 289,
   "id": "b1541118-0432-428d-8442-ae8c56d4568a",
   "metadata": {},
   "outputs": [
    {
     "data": {
      "image/png": "[encoded data removed]",
      "text/plain": [
       "<Figure size 1008x432 with 2 Axes>"
      ]
     },
     "metadata": {
      "needs_background": "light"
     },
     "output_type": "display_data"
    }
   ],
   "source": [
    "# Analyzing mean time and conversions by the language preferred\n",
    "fig, axes = plt.subplots(1, 2, figsize=(14, 6)) \n",
    "\n",
    "# --- Bar plot of mean time spent ---\n",
    "sns.barplot(\n",
    "    x='language_preferred', \n",
    "    y='time_spent_on_the_page', \n",
    "    data=df, \n",
    "    estimator='mean', \n",
    "    errorbar=None,\n",
    "    ax=axes[0]\n",
    ")\n",
    "axes[0].set_title('Mean Time Spent by Preferred Language')\n",
    "\n",
    "for container in axes[0].containers:\n",
    "    axes[0].bar_label(container)\n",
    "    \n",
    "# --- Stacked bar chart of conversions --- \n",
    "cross_tab = pd.crosstab(df['language_preferred'], df['converted'])\n",
    "\n",
    "cross_tab.plot(kind='bar', stacked=True, ax=axes[1]) \n",
    "axes[1].set_title('Conversions by Preferred Language')\n",
    "axes[1].set_ylabel('Count')\n",
    "axes[1].set_xticklabels(axes[1].get_xticklabels(), rotation=0)\n",
    "\n",
    "for container in axes[1].containers:\n",
    "    axes[1].bar_label(container)\n",
    "    \n",
    "plt.tight_layout()\n",
    "plt.show()\n"
   ]
  },
  {
   "cell_type": "markdown",
   "id": "4c0417aa-9630-4825-b761-426a56687716",
   "metadata": {},
   "source": [
    "- There isn't much difference in the mean time spent by users of different Preferred Language.\n",
    "- Users who prefer English have the highest conversion: 21, followed by Spanish: 18  and then French: 15"
   ]
  },
  {
   "cell_type": "code",
   "execution_count": 290,
   "id": "f0f450e4-3b68-45a2-9fdf-d1519708d32c",
   "metadata": {},
   "outputs": [
    {
     "data": {
      "image/png": "[encoded data removed]",
      "text/plain": [
       "<Figure size 720x432 with 1 Axes>"
      ]
     },
     "metadata": {
      "needs_background": "light"
     },
     "output_type": "display_data"
    }
   ],
   "source": [
    "# Comparing time spent with conversion status\n",
    "plt.figure(figsize=(10, 6))\n",
    "\n",
    "ax = sns.barplot(\n",
    "    x='converted', \n",
    "    y='time_spent_on_the_page', \n",
    "    data=df, \n",
    "    estimator='mean', \n",
    "    errorbar=None\n",
    ")\n",
    "for container in ax.containers:\n",
    "    ax.bar_label(container)\n",
    "\n",
    "plt.title('Time spent by Conversion status')\n",
    "plt.show()"
   ]
  },
  {
   "cell_type": "markdown",
   "id": "319e77b7-0d63-42ad-8f4f-6a42bc4dfe66",
   "metadata": {},
   "source": [
    "- Users who spend more time on the Landing page are more likely to get converted."
   ]
  },
  {
   "cell_type": "markdown",
   "id": "c6739667-78ef-42a9-a084-7683e6320b9c",
   "metadata": {},
   "source": [
    "### EDA Summary"
   ]
  },
  {
   "cell_type": "markdown",
   "id": "7c0e7f26-813c-48f7-b94e-0571dd18417b",
   "metadata": {},
   "source": [
    "- The given sample of data has 50 users in the 'control' group and 50 users in the 'treatment' group.\n",
    "- All the 50 users of control group used the 'old' landing page and all the 50 users of the treatment group used the 'new' landing page.\n",
    "- The distribution of the time_spent_on_the_page is appx. Normal.\n",
    "- In the sample/data, 46 users didn't get converted while the other 54 did get converted.\n",
    "- The distribution of users by the Preferred Language is alomost same (apprx. 35 users of each language: English, Spanish and French).\n",
    "- The mean time spent on the Landing page is more for the treatment group than the control group.\n",
    "- There are more conversion in the treatment group than in the control group.\n",
    "- The mean time spent by users of different language preference is apprx. same (5.2 to 5.5 minutes).\n",
    "- English users have the highest conversions followed by Spanish users. French users have the lowest conversions.\n",
    "- The mean time spent on the Landing Page by users who got converted is significantly more (~2.7 minutes) than the mean time spent by users who didn't get converted."
   ]
  },
  {
   "cell_type": "markdown",
   "id": "9f116be5-d3a9-4b6b-a518-39f2502ce443",
   "metadata": {},
   "source": [
    "### Do the users spend more time on the new landing page than the old landing page?"
   ]
  },
  {
   "cell_type": "markdown",
   "id": "e7a8d689-fe24-4920-89f4-8fd25268faed",
   "metadata": {},
   "source": [
    "We'll first Visually analyze the difference in the mean time of the two groups"
   ]
  },
  {
   "cell_type": "code",
   "execution_count": 291,
   "id": "d1b18b89-5099-4a6d-9012-026b251f0c34",
   "metadata": {},
   "outputs": [
    {
     "data": {
      "image/png": "[encoded data removed]",
      "text/plain": [
       "<Figure size 720x432 with 1 Axes>"
      ]
     },
     "metadata": {
      "needs_background": "light"
     },
     "output_type": "display_data"
    }
   ],
   "source": [
    "# plotting a distribution plot for old and new landing page\n",
    "\n",
    "plt.figure(figsize=(10, 6))\n",
    "sns.histplot(data=df, x='time_spent_on_the_page', hue='landing_page', kde=True, element='step')\n",
    "plt.title('Distribution of Time Spent by landing page')\n",
    "plt.show()"
   ]
  },
  {
   "cell_type": "markdown",
   "id": "f95132e8-8277-40ba-aee2-e8c9c6fbcc7f",
   "metadata": {},
   "source": [
    "- In the above distribution of 'group' vs 'time_spent_on_the_page', we can see that the variance for the 'new' landing page is less than the variance for the 'old' landing page and the mean(of Time Spent on Landing Page) for the treatment group is higher than the mean for the control group.\n",
    "- We will perform hypothesis tests to verify if this difference in the mean time spent on the two different landing pages is statistically significant."
   ]
  },
  {
   "cell_type": "markdown",
   "id": "9f7ee84e-d131-4a24-9d41-fd710a1098df",
   "metadata": {},
   "source": [
    "#### **Let's write the Null and Alternate hypothesis**"
   ]
  },
  {
   "cell_type": "markdown",
   "id": "8cfcda99-991a-4abf-9a91-14797f735d17",
   "metadata": {},
   "source": [
    "Let $\\mu_{old}$ be the mean time spent on the old landing page by the control group and $\\mu_{new}$ be the mean time spent on the new landing page by the treatment group\n",
    "\n",
    "We will test the **null hypothesis**: Mean time spent on new page ≤ old page,\n",
    "\n",
    ">$H_0: \\mu_{old} \\leq \\mu_{new}$\n",
    "\n",
    "against the **alternate hypothesis**: Mean time spent on new page > old page\n",
    "\n",
    ">$H_a: \\mu_{new} > \\mu_{old}$"
   ]
  },
  {
   "cell_type": "markdown",
   "id": "7dd0c7b4-f879-4514-9f57-5761696e9209",
   "metadata": {},
   "source": [
    "#### Selecting the appropriate test"
   ]
  },
  {
   "attachments": {},
   "cell_type": "markdown",
   "id": "d1910064-24cb-4e49-b474-55951f1fb804",
   "metadata": {},
   "source": [
    "Let us look at the data we have\n",
    "- It is given that the sample observations are independent of each other.\n",
    "- 'time_spent_on_the_page' is a continuous variable.\n",
    "- There are 50 samples in each category of the group: treatment(new landing page) and control(old landing page).\n",
    "- The population standard deviation is not known. For this reason, we will use **two-sample independent t-test**.\n",
    "- This will be a **one-tailed test** since we are only interested to know if the users spend more time on the new landing page than the old landing page.\n",
    "- We will use a significance level(alpha) of 0.05."
   ]
  },
  {
   "cell_type": "markdown",
   "id": "66e90acf-b975-49cd-a736-b5691b10cc9c",
   "metadata": {},
   "source": [
    "#### Let's find the p-value"
   ]
  },
  {
   "cell_type": "code",
   "execution_count": 292,
   "id": "689b2fa8-7f03-4eb7-8438-eb10481a6e53",
   "metadata": {},
   "outputs": [
    {
     "name": "stdout",
     "output_type": "stream",
     "text": [
      "t-statistic: 3.7868\n",
      "p-value: 0.4671\n"
     ]
    }
   ],
   "source": [
    "# Split into groups\n",
    "new_page_time = df[df['landing_page'] == 'new']['time_spent_on_the_page']\n",
    "old_page_time = df[df['landing_page'] == 'old']['time_spent_on_the_page']\n",
    "\n",
    "# One-sided two-sample independent t-test (H1: treatment > control)\n",
    "t_stat, p_val = stats.ttest_ind(\n",
    "    new_page_time, \n",
    "    old_page_time, \n",
    "    equal_var=False, \n",
    "    alternative='greater'\n",
    ")\n",
    "\n",
    "print(f\"t-statistic: {t_stat:.4f}\")\n",
    "print(f\"p-value: {p_value:.4f}\")"
   ]
  },
  {
   "cell_type": "markdown",
   "id": "3a6691b3-95b7-49dd-82d3-3c662aa08383",
   "metadata": {},
   "source": [
    "#### Conclusion\n",
    "\n",
    "- As the p-value of 0.0001 is much less than the significance level, we will **reject the null hypothesis**. i.e., we have enough statistical evidence to conclude that the **mean time spent on the new landing page by the treatment group is greater than the mean time spent on the old landing page by the control group** at 0.05 level of significance."
   ]
  },
  {
   "cell_type": "code",
   "execution_count": null,
   "id": "f2a5a877-9322-409d-9271-3f471b1569c1",
   "metadata": {},
   "outputs": [],
   "source": []
  },
  {
   "cell_type": "markdown",
   "id": "a55f7739-ddac-43fb-829e-007b14f97026",
   "metadata": {},
   "source": [
    "### Is the conversion rate (the proportion of users who visit the landing page and get converted) for the new page greater than the conversion rate for the old page?"
   ]
  },
  {
   "cell_type": "code",
   "execution_count": 293,
   "id": "73d7fb49-cbab-42d6-a6df-fbab2ed8a6a8",
   "metadata": {},
   "outputs": [
    {
     "data": {
      "image/png": "[encoded data removed]",
      "text/plain": [
       "<Figure size 864x432 with 1 Axes>"
      ]
     },
     "metadata": {
      "needs_background": "light"
     },
     "output_type": "display_data"
    }
   ],
   "source": [
    "# plotting a countplot to see the conversion status of users of different landing page\n",
    "\n",
    "plt.figure(figsize=(12, 6))\n",
    "\n",
    "ax = sns.countplot(\n",
    "    data=df,\n",
    "    x=\"landing_page\",             \n",
    "    hue=\"converted\",       \n",
    ")\n",
    "\n",
    "for container in ax.containers:\n",
    "    ax.bar_label(container)\n",
    "    \n",
    "plt.show()"
   ]
  },
  {
   "cell_type": "markdown",
   "id": "5afb71df-52b4-4ee3-8df2-8e8256bd9261",
   "metadata": {},
   "source": [
    "- Visually, we can see that the users of the new landing page have a higher chance of converting (33/50 = 66%) than the users of the old landing page (21/50 = 42%). Let us do further hypothesis testing to see if the difference observed is statistically significant."
   ]
  },
  {
   "cell_type": "markdown",
   "id": "ac763c53-3406-4410-8ca4-bb8d18394256",
   "metadata": {},
   "source": [
    "#### **Hypothesis:**\n",
    "\n",
    "Let $p_{new}$ be the conversion rate on the new landing page and $p_{old}$ be the conversion rate on the old landing page.  \n",
    "\n",
    "- **Null hypothesis**: The conversion rate for the new landing page is less than or equal to the conversion rate for the old landing page.\n",
    ">$ H_0 = p_{new} \\leq p_{old}$\n",
    "- **Alternative hypothesis**: The conversion rate for the new landing page is greater than the conversion rate for the old landing page.\n",
    ">$H_a = p_{new} > p_{old}$)"
   ]
  },
  {
   "cell_type": "markdown",
   "id": "afc2d338-a1db-4dd6-b07d-4be7d420ba2f",
   "metadata": {},
   "source": [
    "#### Select appropriate test"
   ]
  },
  {
   "cell_type": "markdown",
   "id": "c11f2e98-3d20-4bbc-a8ca-8c0ce35feff9",
   "metadata": {},
   "source": [
    "- The formulated hypotheses are concerned with proportions. A test of proportions can be used to analyse the hypotheses and draw a conclusion. We shall use a **two-sample Z-test for proportions** for this problem.\n",
    "- This will be a one-tailed test with a singnificance level, $\\alpha = 0.05$"
   ]
  },
  {
   "cell_type": "markdown",
   "id": "8f6c6f1e-1c0e-4ac7-a463-6987f34fe822",
   "metadata": {},
   "source": [
    "#### Preparing data for test"
   ]
  },
  {
   "cell_type": "code",
   "execution_count": 294,
   "id": "e0a9851b-a52c-48f4-813d-c0fc7bdbe08a",
   "metadata": {},
   "outputs": [
    {
     "name": "stdout",
     "output_type": "stream",
     "text": [
      "Conversions for old landing page: 21\n",
      "Conversions for new landing page: 33\n",
      "\n",
      "The number of users of old landing page and the number of users of the new landing page are 50 and 50 respectively\n",
      "\n",
      "The proportions of conversions for old landing page and the new landing page are 0.42 and 0.66 respectively\n"
     ]
    }
   ],
   "source": [
    "# Counts of conversions\n",
    "conversions_old = df.loc[(df['landing_page'] == 'old') & (df['converted'] == 'yes'), 'user_id'].count()\n",
    "conversions_new = df.loc[(df['landing_page'] == 'new') & (df['converted'] == 'yes'), 'user_id'].count()\n",
    "\n",
    "print(f\"Conversions for old landing page: {conversions_old}\")\n",
    "print(f\"Conversions for new landing page: {conversions_new}\\n\")\n",
    "\n",
    "# Sample sizes\n",
    "n_old = (df['landing_page'] == 'old').sum()\n",
    "n_new = (df['landing_page'] == 'new').sum()\n",
    "\n",
    "# Run two-sample z-test for proportions\n",
    "count = np.array([conversions_new, conversions_old])\n",
    "nobs = np.array([n_new, n_old])\n",
    "\n",
    "print(f\"The number of users of old landing page and the number of users of the new landing page are {n_old} and {n_new} respectively\\n\")\n",
    "\n",
    "print(f\"The proportions of conversions for old landing page and the new landing page are {conversions_old/n_old} and {conversions_new/n_new} respectively\")"
   ]
  },
  {
   "cell_type": "markdown",
   "id": "283099c3-8bdc-4959-acae-2eb043d8c9bc",
   "metadata": {},
   "source": [
    "#### Finding the p-value"
   ]
  },
  {
   "cell_type": "code",
   "execution_count": 295,
   "id": "ce2b3770-c047-41bb-bd54-808b43f925ce",
   "metadata": {},
   "outputs": [
    {
     "name": "stdout",
     "output_type": "stream",
     "text": [
      "Z-statistic: 2.4077\n",
      "p-value: 0.0080\n"
     ]
    }
   ],
   "source": [
    "stat, p_val = proportions_ztest(count, nobs, alternative='larger')\n",
    "\n",
    "print(f\"Z-statistic: {stat:.4f}\")\n",
    "print(f\"p-value: {p_val:.4f}\")"
   ]
  },
  {
   "cell_type": "markdown",
   "id": "adb85f5b-b7f8-4805-b7af-89058d755127",
   "metadata": {},
   "source": [
    "#### Conclusion"
   ]
  },
  {
   "cell_type": "markdown",
   "id": "c292c43a-fad9-4837-b51d-0f1b34c212ea",
   "metadata": {},
   "source": [
    "- Since the p-value of 0.008 is less than the significance level of 0.05, we **reject the Null Hypothesis** in favor of the Alternate Hypothesis.  \n",
    "- We have enough statistical evidence to say that the **proportion of conversion for the new landing page is higher than the proportion of conversion for the old landing page**."
   ]
  },
  {
   "cell_type": "code",
   "execution_count": null,
   "id": "3aa1d8b1-d79d-4b6f-8960-475449c96d76",
   "metadata": {},
   "outputs": [],
   "source": []
  },
  {
   "cell_type": "markdown",
   "id": "27ae05dc-ee4c-4abc-96a3-df3b9e8d9e9a",
   "metadata": {},
   "source": [
    "### Does the converted status depend on the preferred language?"
   ]
  },
  {
   "cell_type": "code",
   "execution_count": 296,
   "id": "cebd82ce-6efe-4a5b-a247-c8e683a5bda2",
   "metadata": {},
   "outputs": [
    {
     "data": {
      "image/png": "[encoded data removed]",
      "text/plain": [
       "<Figure size 864x432 with 1 Axes>"
      ]
     },
     "metadata": {
      "needs_background": "light"
     },
     "output_type": "display_data"
    }
   ],
   "source": [
    "plt.figure(figsize=(12, 6))\n",
    "\n",
    "ax = sns.countplot(\n",
    "    data=df,\n",
    "    x=\"language_preferred\",             \n",
    "    hue=\"converted\",       \n",
    ")\n",
    "\n",
    "for container in ax.containers:\n",
    "    ax.bar_label(container)\n",
    "    \n",
    "plt.show()"
   ]
  },
  {
   "cell_type": "markdown",
   "id": "6424b60b-dcda-4d40-b466-efe27da99cbe",
   "metadata": {},
   "source": [
    "- From the vizualization, we can see that users who prefer English are more likely to get converted than the users of Spanish preference. French language preferrers are the least likely to get converted."
   ]
  },
  {
   "cell_type": "markdown",
   "id": "6eeae178-fa8a-4aa5-8a75-a819b8ab22c7",
   "metadata": {},
   "source": [
    "#### **Hypothesis:**\n",
    "\n",
    "- **Null hypothesis**- $H_0$: The conversion status is independent of the preferred language.\n",
    "\n",
    "- **Alternative hypothesis**- $H_a$: The conversion status depends on the preferred language."
   ]
  },
  {
   "cell_type": "markdown",
   "id": "30c15fb8-5133-4211-9e42-5c3f5db22274",
   "metadata": {},
   "source": [
    "### Select appropriate test"
   ]
  },
  {
   "cell_type": "markdown",
   "id": "0590e6a7-2f19-4055-a6a7-b0d7dd713fa2",
   "metadata": {},
   "source": [
    "- The data is categorical: Conversion status v/s Language preferred\n",
    "- The data is a random sample and the observations are independent of each other\n",
    "- The value(frequency) of each cell in the contigency table more than 5\n",
    "- **Chi-squared test for Independence** is the most appropriate test for this case\n",
    "- We will use a significane level of 0.05"
   ]
  },
  {
   "cell_type": "markdown",
   "id": "437a57cf-9927-4926-baea-18e83590f949",
   "metadata": {},
   "source": [
    "### Find the p-value"
   ]
  },
  {
   "cell_type": "code",
   "execution_count": 297,
   "id": "26bf058b-5810-4e55-b603-ad6dd978d3dc",
   "metadata": {},
   "outputs": [
    {
     "name": "stdout",
     "output_type": "stream",
     "text": [
      "Contingency Table:\n",
      "\n"
     ]
    },
    {
     "data": {
      "text/html": [
       "<div>\n",
       "<style scoped>\n",
       "    .dataframe tbody tr th:only-of-type {\n",
       "        vertical-align: middle;\n",
       "    }\n",
       "\n",
       "    .dataframe tbody tr th {\n",
       "        vertical-align: top;\n",
       "    }\n",
       "\n",
       "    .dataframe thead th {\n",
       "        text-align: right;\n",
       "    }\n",
       "</style>\n",
       "<table border=\"1\" class=\"dataframe\">\n",
       "  <thead>\n",
       "    <tr style=\"text-align: right;\">\n",
       "      <th>language_preferred</th>\n",
       "      <th>English</th>\n",
       "      <th>French</th>\n",
       "      <th>Spanish</th>\n",
       "    </tr>\n",
       "    <tr>\n",
       "      <th>converted</th>\n",
       "      <th></th>\n",
       "      <th></th>\n",
       "      <th></th>\n",
       "    </tr>\n",
       "  </thead>\n",
       "  <tbody>\n",
       "    <tr>\n",
       "      <th>no</th>\n",
       "      <td>11</td>\n",
       "      <td>19</td>\n",
       "      <td>16</td>\n",
       "    </tr>\n",
       "    <tr>\n",
       "      <th>yes</th>\n",
       "      <td>21</td>\n",
       "      <td>15</td>\n",
       "      <td>18</td>\n",
       "    </tr>\n",
       "  </tbody>\n",
       "</table>\n",
       "</div>"
      ],
      "text/plain": [
       "language_preferred  English  French  Spanish\n",
       "converted                                   \n",
       "no                       11      19       16\n",
       "yes                      21      15       18"
      ]
     },
     "execution_count": 297,
     "metadata": {},
     "output_type": "execute_result"
    }
   ],
   "source": [
    "contingency_table = pd.crosstab(df['converted'], df['language_preferred'])\n",
    "\n",
    "print(\"Contingency Table:\\n\")\n",
    "contingency_table"
   ]
  },
  {
   "cell_type": "code",
   "execution_count": 298,
   "id": "9215b560-e03d-478f-baca-19be63449702",
   "metadata": {},
   "outputs": [
    {
     "name": "stdout",
     "output_type": "stream",
     "text": [
      "Expected Frequencies:\n",
      "\n",
      "     English  French  Spanish\n",
      "no     14.72   15.64    15.64\n",
      "yes    17.28   18.36    18.36\n",
      "\n",
      "Chi-Square Statistic: 3.0930\n",
      "Degrees of Freedom: 2\n",
      "p-value: 0.2130\n"
     ]
    }
   ],
   "source": [
    "chi2, p, dof, expected = chi2_contingency(contingency_table)\n",
    "\n",
    "print(\"Expected Frequencies:\\n\")\n",
    "print(pd.DataFrame(expected, index=['no', 'yes'], columns=['English', 'French', 'Spanish']))\n",
    "print(f\"\\nChi-Square Statistic: {chi2:.4f}\")\n",
    "print(f\"Degrees of Freedom: {dof}\")\n",
    "print(f\"p-value: {p:.4f}\")"
   ]
  },
  {
   "cell_type": "markdown",
   "id": "44ac52b2-5cf7-4ed1-ad83-b9d3a1276e2c",
   "metadata": {},
   "source": [
    "#### Conclusion\n",
    "\n",
    "- Since the p-value is 0.213 (which is greater than $\\alpha$), we fail to reject the Null hypothesis at the given significance level of 0.05.  \n",
    "- So we conclude that the **conversion status does not depend on the language preferred by the user**."
   ]
  },
  {
   "cell_type": "code",
   "execution_count": null,
   "id": "e2791036-db54-4df6-a8e9-ba5eb37c46d0",
   "metadata": {},
   "outputs": [],
   "source": []
  },
  {
   "cell_type": "markdown",
   "id": "f321afc4-b04d-42a7-b8d9-1b53d8d9e423",
   "metadata": {},
   "source": [
    "### Is the mean time spent on the new page same for the different language users?"
   ]
  },
  {
   "cell_type": "code",
   "execution_count": 299,
   "id": "c8e536db-a5da-4c9c-aefc-5d55239f64d6",
   "metadata": {},
   "outputs": [],
   "source": [
    "# Filter the dataframe to create a new subset containing only the data for new landing page\n",
    "df_new = df.loc[df['landing_page'] == 'new']"
   ]
  },
  {
   "cell_type": "code",
   "execution_count": 300,
   "id": "b15bfadf-ac67-4ed8-afa4-4122b2bd57fc",
   "metadata": {},
   "outputs": [
    {
     "name": "stdout",
     "output_type": "stream",
     "text": [
      "  language_preferred  time_spent_on_the_page\n",
      "0            English                6.663750\n",
      "1             French                6.196471\n",
      "2            Spanish                5.835294 \n",
      "\n"
     ]
    },
    {
     "data": {
      "image/png": "[encoded data removed]",
      "text/plain": [
       "<Figure size 504x504 with 1 Axes>"
      ]
     },
     "metadata": {
      "needs_background": "light"
     },
     "output_type": "display_data"
    }
   ],
   "source": [
    "# calculate the mean time for each language group\n",
    "print(df_new.groupby('language_preferred')['time_spent_on_the_page'].mean().reset_index(),'\\n')\n",
    "\n",
    "# plot box plot for time spent for each language group\n",
    "plt.figure(figsize=(7, 7))\n",
    "sns.boxplot(data=df_new, x='language_preferred', y='time_spent_on_the_page', hue='language_preferred')\n",
    "plt.title('Time spent on the New landing page w.r.t Language')\n",
    "plt.show()"
   ]
  },
  {
   "cell_type": "markdown",
   "id": "723e325f-626e-42ea-8cb9-cadeb431e8ac",
   "metadata": {},
   "source": [
    "- There seems to be some difference in the mean time spent on the new landing page across different language users. We will do further analysis to test if this difference is statistically significant."
   ]
  },
  {
   "cell_type": "markdown",
   "id": "57aaba7b-e68f-468a-ae80-e418ae68e79a",
   "metadata": {},
   "source": [
    "### **Hypothesis:**\n",
    "\n",
    "\n",
    "**Null Hypothesis**: The mean time spent on the new landing page is the same for different language users.\n",
    ">$H_0: \\mu_{English} = \\mu_{French} = \\mu_{Spanish}$\n",
    "\n",
    "**Alternate Hypothesis**: At least one user group of language has different mean time spent on the page.\n",
    "\n",
    "We will set the significance level to 0.05."
   ]
  },
  {
   "cell_type": "markdown",
   "id": "68fddee6-f1c4-46f1-b7cc-dfbd1a2d977b",
   "metadata": {},
   "source": [
    "### Select Appropriate test\n",
    "- We'll do Shapiro-Wilk's test to see if time_spent_on_the_page is normally distriubted\n",
    "- Levene's test will be done to see if the variances of the time_spent_on_the_page for different language users is different"
   ]
  },
  {
   "cell_type": "markdown",
   "id": "01cc0a13-321a-4ba3-9f5d-7a91c03f6215",
   "metadata": {},
   "source": [
    "#### Shapiro-Wilk’s test ($\\alpha$ = 0.05)\n",
    "\n",
    "We will test the null hypothesis\n",
    "\n",
    ">$H_0:$ Time spent on the new landing page follows a normal distribution \n",
    "\n",
    "against the alternative hypothesis\n",
    "\n",
    ">$H_a:$ Time spent on the new landing page does not follow a normal distribution"
   ]
  },
  {
   "cell_type": "code",
   "execution_count": 301,
   "id": "6c7b7e12-8a6e-4ca4-9fcb-21711e65214d",
   "metadata": {},
   "outputs": [
    {
     "name": "stdout",
     "output_type": "stream",
     "text": [
      "The p-value is 0.8040040364746845\n"
     ]
    }
   ],
   "source": [
    "w, p_value = stats.shapiro(df_new['time_spent_on_the_page'])\n",
    "print('The p-value is', p_value)"
   ]
  },
  {
   "cell_type": "markdown",
   "id": "c967a46c-ee70-43e9-a360-ea6f69673e5d",
   "metadata": {},
   "source": [
    "- Since the p_value is greater than 0.05 for all the three languages, we do not reject the Null hypothesis, i.e., the **distribution of time_spent_on_the_page for all the three languages for the new landing page is Normal**"
   ]
  },
  {
   "cell_type": "markdown",
   "id": "4be10059-85a9-414a-9475-c7c3664acf4f",
   "metadata": {},
   "source": [
    "#### Levene's test ($\\alpha$ = 0.05)\n",
    "\n",
    "We will test the null hypothesis\n",
    "\n",
    ">$H_0$: All the population variances of time_spent_on_the_page for different language users are equal\n",
    "\n",
    "against the alternative hypothesis\n",
    "\n",
    ">$H_a$: At least one variance is different from the rest"
   ]
  },
  {
   "cell_type": "code",
   "execution_count": 302,
   "id": "e0677c09-17e1-4982-a2a1-10ce9f0aa9ff",
   "metadata": {},
   "outputs": [
    {
     "name": "stdout",
     "output_type": "stream",
     "text": [
      "p-value = 0.4671\n"
     ]
    }
   ],
   "source": [
    "# Filter the time spent by each language group\n",
    "english_time = df_new.loc[df_new['language_preferred'] == 'English', 'time_spent_on_the_page']\n",
    "spanish_time = df_new.loc[df_new['language_preferred'] == 'Spanish', 'time_spent_on_the_page']\n",
    "french_time =  df_new.loc[df_new['language_preferred'] == 'French', 'time_spent_on_the_page']\n",
    "\n",
    "# Perform Levene's test for homogeneity of variance\n",
    "statistic, p_value = stats.levene(english_time, spanish_time, french_time)                                  \n",
    "print(f\"p-value = {p_value:.4f}\")"
   ]
  },
  {
   "cell_type": "markdown",
   "id": "3fddcdf4-5f74-408f-9c38-df606feceef9",
   "metadata": {},
   "source": [
    "- Since the p-value is more than the significance level, we **fail to reject the Null hypothesis of the homogeneity of variances**. "
   ]
  },
  {
   "cell_type": "markdown",
   "id": "1afa4746-e665-4610-8dc6-d395ab3436d2",
   "metadata": {},
   "source": [
    "- time_spent_on_the_page is a continuous variable and it is normally distributed.\n",
    "- The continuous variable is also normally distributed.\n",
    "- The observations are independent.\n",
    "- The population variances for time_spent_on_the_page for different language users is different.\n",
    "- We want to test the means across more than two groups, we will use **One-way Anova test**."
   ]
  },
  {
   "cell_type": "markdown",
   "id": "ea5a9223-7194-41f1-a9bf-95e13cb64385",
   "metadata": {},
   "source": [
    "### Calculate the p-value"
   ]
  },
  {
   "cell_type": "code",
   "execution_count": 303,
   "id": "f96b13d7-d69a-41f0-baa7-ec129656aa9d",
   "metadata": {},
   "outputs": [
    {
     "name": "stdout",
     "output_type": "stream",
     "text": [
      "p-value = 0.4320\n"
     ]
    }
   ],
   "source": [
    "test_stat, p_value = stats.f_oneway(english_time, spanish_time, french_time)\n",
    "print(f\"p-value = {p_value:.4f}\")"
   ]
  },
  {
   "cell_type": "markdown",
   "id": "1897afb2-4a0c-48c0-bc43-2a1cccd6e9ad",
   "metadata": {},
   "source": [
    "- Since the p-value is not less than the significance level of 0.05, we fail to reject the null hypothesis.\n",
    "- We conclude that the **mean time spent on the new landing page is not different for different language users**."
   ]
  },
  {
   "cell_type": "markdown",
   "id": "a79a0b0b-92a1-43ba-8404-0343a67ad119",
   "metadata": {},
   "source": [
    "## Conclusion and Business Recommendation\n",
    "\n",
    "- The given sample of data has **50 users** of **'control group'** who used the **'old landing page'** and **50 users** of **'treatment group'** who used the **'new landing page'**.\n",
    "- We conducted different **hypothesis tests** to check for **statistically significant differences** between the different groups in the sample.\n",
    "- Using **two-sampled independent t-test**, we concluded that the **mean time spent by users of the new landing page is more than the mean time spent by the users of the old landing page**.\n",
    "- Using **two-sampled Z-test for proportions**, we found out that the **conversion rate for the users of the new landing page is higher than the conversion rate for the users of the old landing page**.\n",
    "- Using **Chi-squared test for Independence**, we saw that the **chances of a user getting converted is not dependent on the language** they prefer.\n",
    "- Using **One-way Anova test**, we concluded that the **mean time spent on the new landing page is not different for different language users**.\n",
    "- Based on the tests for langing page V/s time spent and landing page V/s conversion status, it is **recommended for the company to change the landing page from the older version to the newer version** with new outline and more relevant content. This way, the company is more likely to get more subscribers and to make more profit."
   ]
  },
  {
   "cell_type": "code",
   "execution_count": null,
   "id": "c4c94769-b369-45ea-9469-c09832dd94a1",
   "metadata": {},
   "outputs": [],
   "source": []
  }
 ],
 "metadata": {
  "kernelspec": {
   "display_name": "Python 3 (ipykernel)",
   "language": "python",
   "name": "python3"
  },
  "language_info": {
   "codemirror_mode": {
    "name": "ipython",
    "version": 3
   },
   "file_extension": ".py",
   "mimetype": "text/x-python",
   "name": "python",
   "nbconvert_exporter": "python",
   "pygments_lexer": "ipython3",
   "version": "3.10.1"
  }
 },
 "nbformat": 4,
 "nbformat_minor": 5
}
